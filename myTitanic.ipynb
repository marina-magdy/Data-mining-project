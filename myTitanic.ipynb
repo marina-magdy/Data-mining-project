{
 "cells": [
  {
   "cell_type": "code",
   "execution_count": 18,
   "id": "7eb7373b",
   "metadata": {},
   "outputs": [
    {
     "data": {
      "text/html": [
       "<div>\n",
       "<style scoped>\n",
       "    .dataframe tbody tr th:only-of-type {\n",
       "        vertical-align: middle;\n",
       "    }\n",
       "\n",
       "    .dataframe tbody tr th {\n",
       "        vertical-align: top;\n",
       "    }\n",
       "\n",
       "    .dataframe thead th {\n",
       "        text-align: right;\n",
       "    }\n",
       "</style>\n",
       "<table border=\"1\" class=\"dataframe\">\n",
       "  <thead>\n",
       "    <tr style=\"text-align: right;\">\n",
       "      <th></th>\n",
       "      <th>Survived</th>\n",
       "      <th>Pclass</th>\n",
       "      <th>Sex</th>\n",
       "      <th>Age</th>\n",
       "      <th>SibSp</th>\n",
       "      <th>Parch</th>\n",
       "      <th>Fare</th>\n",
       "      <th>Cabin</th>\n",
       "      <th>Embarked</th>\n",
       "    </tr>\n",
       "  </thead>\n",
       "  <tbody>\n",
       "    <tr>\n",
       "      <th>0</th>\n",
       "      <td>0</td>\n",
       "      <td>3</td>\n",
       "      <td>male</td>\n",
       "      <td>22.0</td>\n",
       "      <td>1</td>\n",
       "      <td>0</td>\n",
       "      <td>7.2500</td>\n",
       "      <td>N</td>\n",
       "      <td>S</td>\n",
       "    </tr>\n",
       "    <tr>\n",
       "      <th>1</th>\n",
       "      <td>1</td>\n",
       "      <td>1</td>\n",
       "      <td>female</td>\n",
       "      <td>38.0</td>\n",
       "      <td>1</td>\n",
       "      <td>0</td>\n",
       "      <td>71.2833</td>\n",
       "      <td>C</td>\n",
       "      <td>C</td>\n",
       "    </tr>\n",
       "    <tr>\n",
       "      <th>2</th>\n",
       "      <td>1</td>\n",
       "      <td>3</td>\n",
       "      <td>female</td>\n",
       "      <td>26.0</td>\n",
       "      <td>0</td>\n",
       "      <td>0</td>\n",
       "      <td>7.9250</td>\n",
       "      <td>N</td>\n",
       "      <td>S</td>\n",
       "    </tr>\n",
       "    <tr>\n",
       "      <th>3</th>\n",
       "      <td>1</td>\n",
       "      <td>1</td>\n",
       "      <td>female</td>\n",
       "      <td>35.0</td>\n",
       "      <td>1</td>\n",
       "      <td>0</td>\n",
       "      <td>53.1000</td>\n",
       "      <td>C</td>\n",
       "      <td>S</td>\n",
       "    </tr>\n",
       "    <tr>\n",
       "      <th>4</th>\n",
       "      <td>0</td>\n",
       "      <td>3</td>\n",
       "      <td>male</td>\n",
       "      <td>35.0</td>\n",
       "      <td>0</td>\n",
       "      <td>0</td>\n",
       "      <td>8.0500</td>\n",
       "      <td>N</td>\n",
       "      <td>S</td>\n",
       "    </tr>\n",
       "  </tbody>\n",
       "</table>\n",
       "</div>"
      ],
      "text/plain": [
       "   Survived  Pclass     Sex   Age  SibSp  Parch     Fare Cabin Embarked\n",
       "0         0       3    male  22.0      1      0   7.2500     N        S\n",
       "1         1       1  female  38.0      1      0  71.2833     C        C\n",
       "2         1       3  female  26.0      0      0   7.9250     N        S\n",
       "3         1       1  female  35.0      1      0  53.1000     C        S\n",
       "4         0       3    male  35.0      0      0   8.0500     N        S"
      ]
     },
     "execution_count": 18,
     "metadata": {},
     "output_type": "execute_result"
    }
   ],
   "source": [
    "import numpy as np\n",
    "import pandas as pd\n",
    "\n",
    "data = pd.read_csv(\"train.csv\")\n",
    "test = pd.read_csv(\"test.csv\")\n",
    "\n",
    "\n",
    "psgcol=test[\"PassengerId\"]\n",
    "psgIds = test[\"PassengerId\"]\n",
    "def preprocess(data):\n",
    "    \n",
    "    columns = [\"SibSp\", \"Age\",\"Fare\"]\n",
    "    columns2 =[ \"Embarked\",\"Sex\",\"Cabin\"]\n",
    "    for col in columns:\n",
    "        data[col].fillna(data[col].median(), inplace=True)#filing the nan values by the average of data in the column\n",
    "    for col in columns2:\n",
    "        data[col].fillna(\"Not available\", inplace= True)#filing the nan values by the \"Not available\" value \n",
    "  \n",
    "    return data\n",
    "\n",
    "#df['NewCol1'] = 'A'\n",
    "# Add another new column\n",
    "#df['NewCol2'] = [1, 2, 3, 4]\n",
    "\n",
    "# Print the result:\n",
    "#display(df)\n",
    "data = preprocess(data)\n",
    "data = data.drop([\"PassengerId\",\"Ticket\",\"Name\"],axis=1)#clean data by dropping colums of data that i think they will not be useful in predicting who will be alive\n",
    "test = preprocess(test)\n",
    "test = test.drop([\"Ticket\",\"Name\"],axis=1)\n",
    "data.Cabin = (data.Cabin).astype(str).str.slice(0,1)\n",
    "test.Cabin = (test.Cabin).astype(str).str.slice(0,1)\n",
    "data.head(5)"
   ]
  },
  {
   "cell_type": "markdown",
   "id": "fe3594ee",
   "metadata": {},
   "source": [
    "in the code above, i created a function called preprocess to clean data, where i replaced any \"nan\" value with the median if it's a number or with not available if it's a string, then i dropped the columns: \"PassengerId\", \"Name\" and \"Ticket\" as i think they cannot help to predict who survived and who did not as these are just names and ids and i kept cabin as they represent location of passengers and will help in prediction, age , Pclass , fare, Embarked, Parch, Sex and SibSp as i think they will help in predicting who survived"
   ]
  },
  {
   "cell_type": "code",
   "execution_count": 1,
   "id": "08f24458",
   "metadata": {},
   "outputs": [
    {
     "ename": "NameError",
     "evalue": "name 'data' is not defined",
     "output_type": "error",
     "traceback": [
      "\u001b[1;31m---------------------------------------------------------------------------\u001b[0m",
      "\u001b[1;31mNameError\u001b[0m                                 Traceback (most recent call last)",
      "\u001b[1;32m<ipython-input-1-5aceafbf0a7b>\u001b[0m in \u001b[0;36m<module>\u001b[1;34m\u001b[0m\n\u001b[0;32m      4\u001b[0m \u001b[1;31m#Label Encoding for handling categorical variables:Embarked and Sex to transform them to numerical values that machine understands.Each label is assigned a unique integer based on alphabetical ordering.\u001b[0m\u001b[1;33m\u001b[0m\u001b[1;33m\u001b[0m\u001b[1;33m\u001b[0m\u001b[0m\n\u001b[0;32m      5\u001b[0m \u001b[1;32mfor\u001b[0m \u001b[0mcol\u001b[0m \u001b[1;32min\u001b[0m \u001b[0mcolumns3\u001b[0m\u001b[1;33m:\u001b[0m\u001b[1;33m\u001b[0m\u001b[1;33m\u001b[0m\u001b[0m\n\u001b[1;32m----> 6\u001b[1;33m     \u001b[0mdata\u001b[0m\u001b[1;33m[\u001b[0m\u001b[0mcol\u001b[0m\u001b[1;33m]\u001b[0m \u001b[1;33m=\u001b[0m \u001b[0mle\u001b[0m\u001b[1;33m.\u001b[0m\u001b[0mfit_transform\u001b[0m\u001b[1;33m(\u001b[0m\u001b[0mdata\u001b[0m\u001b[1;33m[\u001b[0m\u001b[0mcol\u001b[0m\u001b[1;33m]\u001b[0m\u001b[1;33m)\u001b[0m\u001b[1;33m\u001b[0m\u001b[1;33m\u001b[0m\u001b[0m\n\u001b[0m\u001b[0;32m      7\u001b[0m     \u001b[0mtest\u001b[0m\u001b[1;33m[\u001b[0m\u001b[0mcol\u001b[0m\u001b[1;33m]\u001b[0m \u001b[1;33m=\u001b[0m \u001b[0mle\u001b[0m\u001b[1;33m.\u001b[0m\u001b[0mtransform\u001b[0m\u001b[1;33m(\u001b[0m\u001b[0mtest\u001b[0m\u001b[1;33m[\u001b[0m\u001b[0mcol\u001b[0m\u001b[1;33m]\u001b[0m\u001b[1;33m)\u001b[0m\u001b[1;33m\u001b[0m\u001b[1;33m\u001b[0m\u001b[0m\n\u001b[0;32m      8\u001b[0m     \u001b[0mprint\u001b[0m\u001b[1;33m(\u001b[0m\u001b[0mle\u001b[0m\u001b[1;33m.\u001b[0m\u001b[0mclasses_\u001b[0m\u001b[1;33m)\u001b[0m\u001b[1;33m\u001b[0m\u001b[1;33m\u001b[0m\u001b[0m\n",
      "\u001b[1;31mNameError\u001b[0m: name 'data' is not defined"
     ]
    }
   ],
   "source": [
    "from sklearn import preprocessing\n",
    "le = preprocessing.LabelEncoder()\n",
    "columns3 = [ \"Embarked\",\"Sex\"]\n",
    "#Label Encoding for handling categorical variables:Embarked and Sex to transform them to numerical values that machine understands.Each label is assigned a unique integer based on alphabetical ordering.\n",
    "for col in columns3:\n",
    "    data[col] = le.fit_transform(data[col])\n",
    "    test[col] = le.transform(test[col])\n",
    "    print(le.classes_)\n",
    "data.Cabin = le.fit_transform(data.Cabin)\n",
    "test.Cabin = le.transform(test.Cabin)\n",
    "data.head(5)\n"
   ]
  },
  {
   "cell_type": "markdown",
   "id": "6daae405",
   "metadata": {},
   "source": [
    "here i encoded the columns that had strings to transform them to numbers that the machine understands"
   ]
  },
  {
   "cell_type": "code",
   "execution_count": 20,
   "id": "eeec4c83",
   "metadata": {},
   "outputs": [],
   "source": [
    "from sklearn.linear_model import LogisticRegression\n",
    "from sklearn.model_selection import train_test_split\n",
    "y= data[\"Survived\"]\n",
    "X= data.drop(\"Survived\", axis=1)\n",
    "X_train, X_val, y_train, y_val = train_test_split(X,y,test_size=0.2,random_state=42)"
   ]
  },
  {
   "cell_type": "markdown",
   "id": "2b257926",
   "metadata": {},
   "source": [
    "here i imported logistic regression model to train data and i validated my model "
   ]
  },
  {
   "cell_type": "code",
   "execution_count": 21,
   "id": "f46b7745",
   "metadata": {},
   "outputs": [],
   "source": [
    "R=LogisticRegression(random_state=0,max_iter=1000).fit(X_train,y_train)"
   ]
  },
  {
   "cell_type": "markdown",
   "id": "be03ff74",
   "metadata": {},
   "source": [
    "here i used the LogisticRegression model in order to fit trained data and then predict test data"
   ]
  },
  {
   "cell_type": "code",
   "execution_count": 22,
   "id": "0be88a82",
   "metadata": {},
   "outputs": [
    {
     "data": {
      "text/plain": [
       "0.8212290502793296"
      ]
     },
     "execution_count": 22,
     "metadata": {},
     "output_type": "execute_result"
    }
   ],
   "source": [
    "pred=R.predict(X_val)\n",
    "from sklearn.metrics import accuracy_score\n",
    "accuracy_score(y_val,pred)"
   ]
  },
  {
   "cell_type": "markdown",
   "id": "84a6c6df",
   "metadata": {},
   "source": [
    "here i calculated the score of accuracy of my model to validate it"
   ]
  },
  {
   "cell_type": "code",
   "execution_count": 23,
   "id": "a58ff9df",
   "metadata": {},
   "outputs": [
    {
     "name": "stdout",
     "output_type": "stream",
     "text": [
      "     Pclass  Sex   Age  SibSp  Parch      Fare  Cabin  Embarked\n",
      "0         3    1  34.5      0      0    7.8292      7         2\n",
      "1         3    0  47.0      1      0    7.0000      7         3\n",
      "2         2    1  62.0      0      0    9.6875      7         2\n",
      "3         3    1  27.0      0      0    8.6625      7         3\n",
      "4         3    0  22.0      1      1   12.2875      7         3\n",
      "..      ...  ...   ...    ...    ...       ...    ...       ...\n",
      "413       3    1  27.0      0      0    8.0500      7         3\n",
      "414       1    0  39.0      0      0  108.9000      2         0\n",
      "415       3    1  38.5      0      0    7.2500      7         3\n",
      "416       3    1  27.0      0      0    8.0500      7         3\n",
      "417       3    1  27.0      1      1   22.3583      7         0\n",
      "\n",
      "[418 rows x 8 columns]\n"
     ]
    }
   ],
   "source": [
    "test2=test.drop(\"PassengerId\", axis=1)\n",
    "print(test2)\n",
    "mypred= R.predict(test2)"
   ]
  },
  {
   "cell_type": "markdown",
   "id": "1fba52db",
   "metadata": {},
   "source": [
    "here i used my model to predict the survived column in test data"
   ]
  },
  {
   "cell_type": "code",
   "execution_count": 24,
   "id": "755cb479",
   "metadata": {},
   "outputs": [],
   "source": [
    "df= pd.DataFrame({\"PassengerId\":psgIds.values,\n",
    "                 \"Survived\":mypred,})"
   ]
  },
  {
   "cell_type": "markdown",
   "id": "32bba123",
   "metadata": {},
   "source": [
    "i added the 2 columns that will be in my submission file to a data frame"
   ]
  },
  {
   "cell_type": "code",
   "execution_count": 25,
   "id": "bc5621c0",
   "metadata": {},
   "outputs": [],
   "source": [
    "#f = open(\"submissions.csv\", \"x\")\n",
    "df.to_csv(\"submissions.csv\",index=False)\n"
   ]
  },
  {
   "cell_type": "markdown",
   "id": "3dcc1a83",
   "metadata": {},
   "source": [
    "and added the data frame to a file called submission to test my result"
   ]
  },
  {
   "cell_type": "code",
   "execution_count": null,
   "id": "81ccd04e",
   "metadata": {},
   "outputs": [],
   "source": []
  }
 ],
 "metadata": {
  "kernelspec": {
   "display_name": "Python 3",
   "language": "python",
   "name": "python3"
  },
  "language_info": {
   "codemirror_mode": {
    "name": "ipython",
    "version": 3
   },
   "file_extension": ".py",
   "mimetype": "text/x-python",
   "name": "python",
   "nbconvert_exporter": "python",
   "pygments_lexer": "ipython3",
   "version": "3.8.8"
  }
 },
 "nbformat": 4,
 "nbformat_minor": 5
}
